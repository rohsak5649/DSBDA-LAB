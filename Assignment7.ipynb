{
 "cells": [
  {
   "cell_type": "markdown",
   "id": "3aa072d6",
   "metadata": {},
   "source": [
    "#### Name: Pranav Mehendale\n",
    "#### Roll No.: TCOD34\n",
    "#### Batch: T11 "
   ]
  },
  {
   "cell_type": "markdown",
   "id": "4d43c4c4",
   "metadata": {},
   "source": [
    "# Assignment 7 - Group A"
   ]
  },
  {
   "cell_type": "markdown",
   "id": "1732179e",
   "metadata": {},
   "source": [
    "## Text Analytics\n",
    "\n",
    "1. Extract Sample document and apply following document preprocessing methods: Tokenization, POS Tagging, stop words removal, Stemming and Lemmatizaton\n",
    "\n",
    "2. Create representation of document by calculating Term Frequency and Inverse Document Frequency"
   ]
  },
  {
   "cell_type": "code",
   "execution_count": 1,
   "id": "316fc612",
   "metadata": {},
   "outputs": [],
   "source": [
    "import nltk"
   ]
  },
  {
   "cell_type": "code",
   "execution_count": 2,
   "id": "98ac3e02",
   "metadata": {},
   "outputs": [
    {
     "name": "stderr",
     "output_type": "stream",
     "text": [
      "[nltk_data] Downloading package punkt to\n",
      "[nltk_data]     C:\\Users\\admin\\AppData\\Roaming\\nltk_data...\n",
      "[nltk_data]   Package punkt is already up-to-date!\n",
      "[nltk_data] Downloading package stopwords to\n",
      "[nltk_data]     C:\\Users\\admin\\AppData\\Roaming\\nltk_data...\n",
      "[nltk_data]   Package stopwords is already up-to-date!\n",
      "[nltk_data] Downloading package wordnet to\n",
      "[nltk_data]     C:\\Users\\admin\\AppData\\Roaming\\nltk_data...\n",
      "[nltk_data]   Package wordnet is already up-to-date!\n",
      "[nltk_data] Downloading package averaged_perceptron_tagger to\n",
      "[nltk_data]     C:\\Users\\admin\\AppData\\Roaming\\nltk_data...\n",
      "[nltk_data]   Package averaged_perceptron_tagger is already up-to-\n",
      "[nltk_data]       date!\n"
     ]
    },
    {
     "data": {
      "text/plain": [
       "True"
      ]
     },
     "execution_count": 2,
     "metadata": {},
     "output_type": "execute_result"
    }
   ],
   "source": [
    "nltk.download('punkt')\n",
    "nltk.download('stopwords')\n",
    "nltk.download('wordnet')\n",
    "nltk.download('averaged_perceptron_tagger')"
   ]
  },
  {
   "cell_type": "code",
   "execution_count": 3,
   "id": "d2c00791",
   "metadata": {},
   "outputs": [],
   "source": [
    "text= \"Tokenization is the first step in text analytics. The process of breaking down a text paragraph into smaller chunks such as words or sentences is called Tokenization.\""
   ]
  },
  {
   "cell_type": "markdown",
   "id": "e7a21e7d",
   "metadata": {},
   "source": [
    "### Sentence Tokenization"
   ]
  },
  {
   "cell_type": "code",
   "execution_count": 4,
   "id": "b64a34a3",
   "metadata": {},
   "outputs": [
    {
     "name": "stdout",
     "output_type": "stream",
     "text": [
      "['Tokenization is the first step in text analytics.', 'The process of breaking down a text paragraph into smaller chunks such as words or sentences is called Tokenization.']\n"
     ]
    }
   ],
   "source": [
    "from nltk.tokenize import sent_tokenize\n",
    "tokenized_text= sent_tokenize(text)\n",
    "print(tokenized_text)"
   ]
  },
  {
   "cell_type": "markdown",
   "id": "23e2da5e",
   "metadata": {},
   "source": [
    "### Word Tokenization"
   ]
  },
  {
   "cell_type": "code",
   "execution_count": 5,
   "id": "3fc9d62d",
   "metadata": {},
   "outputs": [
    {
     "name": "stdout",
     "output_type": "stream",
     "text": [
      "['Tokenization', 'is', 'the', 'first', 'step', 'in', 'text', 'analytics', '.', 'The', 'process', 'of', 'breaking', 'down', 'a', 'text', 'paragraph', 'into', 'smaller', 'chunks', 'such', 'as', 'words', 'or', 'sentences', 'is', 'called', 'Tokenization', '.']\n"
     ]
    }
   ],
   "source": [
    "from nltk.tokenize import word_tokenize\n",
    "tokenized_word=word_tokenize(text)\n",
    "print(tokenized_word)"
   ]
  },
  {
   "cell_type": "markdown",
   "id": "41bc995d",
   "metadata": {},
   "source": [
    "### Removing punctuation and stop word "
   ]
  },
  {
   "cell_type": "code",
   "execution_count": 6,
   "id": "359fdbc8",
   "metadata": {},
   "outputs": [],
   "source": [
    "from nltk.corpus import stopwords\n",
    "import re"
   ]
  },
  {
   "cell_type": "code",
   "execution_count": 7,
   "id": "4803942a",
   "metadata": {},
   "outputs": [
    {
     "name": "stdout",
     "output_type": "stream",
     "text": [
      "{'o', 'am', 'y', \"needn't\", 'needn', 'have', 'more', 'once', 'off', 'for', 'has', 'from', 't', 'whom', 'of', \"won't\", 'won', 'or', 'hadn', \"weren't\", \"mightn't\", 'through', 'up', 'such', \"you're\", 'had', 'when', 'an', 'her', 'being', 'was', 'him', 'this', 'nor', 'than', 'what', 'were', \"that'll\", 'them', 'ours', 'very', 'by', 'hasn', 'our', 'few', 'ain', 'mustn', 'myself', 'about', 'same', 'the', 'before', 'only', 'ourselves', 'a', 's', \"haven't\", 'hers', \"wasn't\", \"it's\", 'should', 'in', 'you', 'yours', \"wouldn't\", 'ma', 'down', 'itself', 'with', 'how', 're', 'will', 'isn', 'do', 'she', 'is', 'can', \"aren't\", 'wouldn', 'if', 'don', \"you'll\", \"hadn't\", 'they', 'now', 'shouldn', 'so', 'couldn', 'no', 'where', 'these', 'most', \"couldn't\", 'under', 'are', 'aren', 'there', 'other', 'each', 'who', 'their', 'on', \"don't\", 'it', 'out', 'over', 'some', \"you'd\", 'until', 'that', 'against', 'then', 'any', 'did', 'll', \"shouldn't\", \"hasn't\", 'after', 'your', 'themselves', 'not', 'above', 'd', 'mightn', 'own', 'be', 'just', 'herself', 'we', 'both', 'into', 'again', 'as', 'its', 'but', 'been', 'haven', 'does', 'too', 'yourself', 'during', 'having', 'and', 'because', 'at', 'further', 'below', 'here', 'didn', 'doesn', \"she's\", \"didn't\", \"doesn't\", 'those', 'shan', 'weren', \"isn't\", 'why', 'doing', 'theirs', \"shan't\", 'i', \"should've\", 'me', 'he', 'while', 'yourselves', 'which', 've', \"you've\", 'm', \"mustn't\", 'himself', 'between', 'my', 'his', 'all', 'wasn', 'to'}\n",
      "Tokenized Sentence: ['how', 'to', 'remove', 'stop', 'words', 'with', 'nltk', 'library', 'in', 'python']\n",
      "Filterd Sentence: ['remove', 'stop', 'words', 'nltk', 'library', 'python']\n"
     ]
    }
   ],
   "source": [
    "stop_words=set(stopwords.words(\"english\"))\n",
    "print(stop_words)\n",
    "text= \"How to remove stop words with NLTK library in Python?\"\n",
    "text= re.sub('[^a-zA-Z]', ' ',text)\n",
    "tokens = word_tokenize(text.lower())\n",
    "filtered_text=[]\n",
    "for w in tokens:\n",
    "    if w not in stop_words:\n",
    "        filtered_text.append(w)\n",
    "print(\"Tokenized Sentence:\",tokens)\n",
    "print(\"Filterd Sentence:\",filtered_text)"
   ]
  },
  {
   "cell_type": "markdown",
   "id": "d209558f",
   "metadata": {},
   "source": [
    "### Perfoming Stemming"
   ]
  },
  {
   "cell_type": "code",
   "execution_count": 8,
   "id": "38178538",
   "metadata": {},
   "outputs": [],
   "source": [
    "from nltk.stem import PorterStemmer"
   ]
  },
  {
   "cell_type": "code",
   "execution_count": 9,
   "id": "5914d8f7",
   "metadata": {},
   "outputs": [
    {
     "name": "stdout",
     "output_type": "stream",
     "text": [
      "wait\n",
      "wait\n",
      "wait\n",
      "wait\n"
     ]
    }
   ],
   "source": [
    "e_words= [\"wait\", \"waiting\", \"waited\", \"waits\"]\n",
    "ps =PorterStemmer()\n",
    "for w in e_words:\n",
    "    rootWord=ps.stem(w)\n",
    "    print(rootWord)"
   ]
  },
  {
   "cell_type": "markdown",
   "id": "db6450fb",
   "metadata": {},
   "source": [
    "### Perform Lemmatization"
   ]
  },
  {
   "cell_type": "code",
   "execution_count": 10,
   "id": "72823ca8",
   "metadata": {},
   "outputs": [
    {
     "name": "stdout",
     "output_type": "stream",
     "text": [
      "Lemma for studies is study\n",
      "Lemma for studying is studying\n",
      "Lemma for cries is cry\n",
      "Lemma for cry is cry\n"
     ]
    }
   ],
   "source": [
    "from nltk.stem import WordNetLemmatizer\n",
    "wordnet_lemmatizer = WordNetLemmatizer()\n",
    "text = \"studies studying cries cry\"\n",
    "tokenization = nltk.word_tokenize(text)\n",
    "for w in tokenization:\n",
    "    print(\"Lemma for {} is {}\".format(w,wordnet_lemmatizer.lemmatize(w)))"
   ]
  },
  {
   "cell_type": "markdown",
   "id": "13d62395",
   "metadata": {},
   "source": [
    "### Apply POS Tagging to text"
   ]
  },
  {
   "cell_type": "code",
   "execution_count": 11,
   "id": "061f9dc4",
   "metadata": {},
   "outputs": [
    {
     "name": "stdout",
     "output_type": "stream",
     "text": [
      "[('The', 'DT')]\n",
      "[('pink', 'NN')]\n",
      "[('sweater', 'NN')]\n",
      "[('fits', 'NNS')]\n",
      "[('her', 'PRP$')]\n",
      "[('perfectly', 'RB')]\n"
     ]
    }
   ],
   "source": [
    "import nltk\n",
    "from nltk.tokenize import word_tokenize\n",
    "data=\"The pink sweater fits her perfectly\"\n",
    "words=word_tokenize(data)\n",
    "for word in words:\n",
    "    print(nltk.pos_tag([word]))"
   ]
  },
  {
   "cell_type": "markdown",
   "id": "5c9a6792",
   "metadata": {},
   "source": [
    "## Algorithm for Creating representation of document by calculating TFIDF"
   ]
  },
  {
   "cell_type": "markdown",
   "id": "f78002f5",
   "metadata": {},
   "source": [
    "### Importing the necessary libraries"
   ]
  },
  {
   "cell_type": "code",
   "execution_count": 12,
   "id": "5b3851d5",
   "metadata": {},
   "outputs": [],
   "source": [
    "import pandas as pd\n",
    "from sklearn.feature_extraction.text import TfidfVectorizer"
   ]
  },
  {
   "cell_type": "markdown",
   "id": "6fa662a6",
   "metadata": {},
   "source": [
    "### Initializing the Documents"
   ]
  },
  {
   "cell_type": "code",
   "execution_count": 13,
   "id": "91fd53e5",
   "metadata": {},
   "outputs": [],
   "source": [
    "documentA = 'Jupiter is the largest Planet'\n",
    "documentB = 'Mars is the fourth planet from the Sun'"
   ]
  },
  {
   "cell_type": "markdown",
   "id": "24f8da6b",
   "metadata": {},
   "source": [
    "### Creating BagofWords for Documents A and B."
   ]
  },
  {
   "cell_type": "code",
   "execution_count": 14,
   "id": "ecbf3594",
   "metadata": {},
   "outputs": [],
   "source": [
    "bagOfWordsA = documentA.split(' ')\n",
    "bagOfWordsB = documentB.split(' ')"
   ]
  },
  {
   "cell_type": "markdown",
   "id": "1774da58",
   "metadata": {},
   "source": [
    "### Split unique words from documents A & B"
   ]
  },
  {
   "cell_type": "code",
   "execution_count": 15,
   "id": "456bf41e",
   "metadata": {},
   "outputs": [],
   "source": [
    "uniqueWords = set(bagOfWordsA).union(set(bagOfWordsB))"
   ]
  },
  {
   "cell_type": "markdown",
   "id": "dd7f2c6a",
   "metadata": {},
   "source": [
    "### Create a dictionary of words and their occurrence for each document in the corpus"
   ]
  },
  {
   "cell_type": "code",
   "execution_count": 16,
   "id": "23030790",
   "metadata": {},
   "outputs": [],
   "source": [
    "numOfWordsA = dict.fromkeys(uniqueWords, 0)\n",
    "for word in bagOfWordsA:\n",
    "    numOfWordsA[word] += 1\n",
    "    numOfWordsB = dict.fromkeys(uniqueWords, 0)\n",
    "for word in bagOfWordsB:\n",
    "    numOfWordsB[word] += 1"
   ]
  },
  {
   "cell_type": "markdown",
   "id": "1a333502",
   "metadata": {},
   "source": [
    "### Compute the term frequency for each of our documents."
   ]
  },
  {
   "cell_type": "code",
   "execution_count": 17,
   "id": "7c12f5e8",
   "metadata": {},
   "outputs": [],
   "source": [
    "def computeTF(wordDict, bagOfWords):\n",
    "    tfDict = {}\n",
    "    bagOfWordsCount = len(bagOfWords)\n",
    "    for word, count in wordDict.items():\n",
    "        tfDict[word] = count / float(bagOfWordsCount)\n",
    "    return tfDict\n",
    "tfA = computeTF(numOfWordsA, bagOfWordsA)\n",
    "tfB = computeTF(numOfWordsB, bagOfWordsB)"
   ]
  },
  {
   "cell_type": "markdown",
   "id": "a76cf7c6",
   "metadata": {},
   "source": [
    "### Computing the term Inverse Document Frequency."
   ]
  },
  {
   "cell_type": "code",
   "execution_count": 18,
   "id": "434c3061",
   "metadata": {},
   "outputs": [
    {
     "data": {
      "text/plain": [
       "{'Jupiter': 0.6931471805599453,\n",
       " 'is': 0.0,\n",
       " 'Planet': 0.6931471805599453,\n",
       " 'fourth': 0.6931471805599453,\n",
       " 'Mars': 0.6931471805599453,\n",
       " 'Sun': 0.6931471805599453,\n",
       " 'planet': 0.6931471805599453,\n",
       " 'largest': 0.6931471805599453,\n",
       " 'from': 0.6931471805599453,\n",
       " 'the': 0.0}"
      ]
     },
     "execution_count": 18,
     "metadata": {},
     "output_type": "execute_result"
    }
   ],
   "source": [
    "import math\n",
    "def computeIDF(documents):\n",
    "    N = len(documents)\n",
    "    idfDict = dict.fromkeys(documents[0].keys(), 0)\n",
    "    for document in documents:\n",
    "        for word, val in document.items():\n",
    "            if val > 0:\n",
    "                idfDict[word] += 1\n",
    "    for word, val in idfDict.items():\n",
    "        idfDict[word] = math.log(N / float(val))\n",
    "    return idfDict\n",
    "\n",
    "idfs = computeIDF([numOfWordsA, numOfWordsB])\n",
    "idfs"
   ]
  },
  {
   "cell_type": "markdown",
   "id": "1a25075f",
   "metadata": {},
   "source": [
    "### Compute the term TF/IDF for all words."
   ]
  },
  {
   "cell_type": "code",
   "execution_count": 19,
   "id": "132b787b",
   "metadata": {},
   "outputs": [
    {
     "data": {
      "text/html": [
       "<div>\n",
       "<style scoped>\n",
       "    .dataframe tbody tr th:only-of-type {\n",
       "        vertical-align: middle;\n",
       "    }\n",
       "\n",
       "    .dataframe tbody tr th {\n",
       "        vertical-align: top;\n",
       "    }\n",
       "\n",
       "    .dataframe thead th {\n",
       "        text-align: right;\n",
       "    }\n",
       "</style>\n",
       "<table border=\"1\" class=\"dataframe\">\n",
       "  <thead>\n",
       "    <tr style=\"text-align: right;\">\n",
       "      <th></th>\n",
       "      <th>Jupiter</th>\n",
       "      <th>is</th>\n",
       "      <th>Planet</th>\n",
       "      <th>fourth</th>\n",
       "      <th>Mars</th>\n",
       "      <th>Sun</th>\n",
       "      <th>planet</th>\n",
       "      <th>largest</th>\n",
       "      <th>from</th>\n",
       "      <th>the</th>\n",
       "    </tr>\n",
       "  </thead>\n",
       "  <tbody>\n",
       "    <tr>\n",
       "      <th>0</th>\n",
       "      <td>0.138629</td>\n",
       "      <td>0.0</td>\n",
       "      <td>0.138629</td>\n",
       "      <td>0.000000</td>\n",
       "      <td>0.000000</td>\n",
       "      <td>0.000000</td>\n",
       "      <td>0.000000</td>\n",
       "      <td>0.138629</td>\n",
       "      <td>0.000000</td>\n",
       "      <td>0.0</td>\n",
       "    </tr>\n",
       "    <tr>\n",
       "      <th>1</th>\n",
       "      <td>0.000000</td>\n",
       "      <td>0.0</td>\n",
       "      <td>0.000000</td>\n",
       "      <td>0.086643</td>\n",
       "      <td>0.086643</td>\n",
       "      <td>0.086643</td>\n",
       "      <td>0.086643</td>\n",
       "      <td>0.000000</td>\n",
       "      <td>0.086643</td>\n",
       "      <td>0.0</td>\n",
       "    </tr>\n",
       "  </tbody>\n",
       "</table>\n",
       "</div>"
      ],
      "text/plain": [
       "    Jupiter   is    Planet    fourth      Mars       Sun    planet   largest  \\\n",
       "0  0.138629  0.0  0.138629  0.000000  0.000000  0.000000  0.000000  0.138629   \n",
       "1  0.000000  0.0  0.000000  0.086643  0.086643  0.086643  0.086643  0.000000   \n",
       "\n",
       "       from  the  \n",
       "0  0.000000  0.0  \n",
       "1  0.086643  0.0  "
      ]
     },
     "execution_count": 19,
     "metadata": {},
     "output_type": "execute_result"
    }
   ],
   "source": [
    "def computeTFIDF(tfBagOfWords, idfs):\n",
    "    tfidf = {}\n",
    "    for word, val in tfBagOfWords.items():\n",
    "        tfidf[word] = val * idfs[word]\n",
    "    return tfidf\n",
    "\n",
    "tfidfA = computeTFIDF(tfA, idfs)\n",
    "tfidfB = computeTFIDF(tfB, idfs)\n",
    "df = pd.DataFrame([tfidfA, tfidfB])\n",
    "df"
   ]
  }
 ],
 "metadata": {
  "kernelspec": {
   "display_name": "Python 3 (ipykernel)",
   "language": "python",
   "name": "python3"
  },
  "language_info": {
   "codemirror_mode": {
    "name": "ipython",
    "version": 3
   },
   "file_extension": ".py",
   "mimetype": "text/x-python",
   "name": "python",
   "nbconvert_exporter": "python",
   "pygments_lexer": "ipython3",
   "version": "3.11.5"
  }
 },
 "nbformat": 4,
 "nbformat_minor": 5
}
