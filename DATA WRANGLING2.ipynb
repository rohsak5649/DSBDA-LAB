{
 "cells": [
  {
   "cell_type": "markdown",
   "id": "8548f67b",
   "metadata": {},
   "source": [
    "#### Name: Pranav Mehendale\n",
    "#### Roll No.: TCOD34\n",
    "#### Batch: T11 "
   ]
  },
  {
   "cell_type": "markdown",
   "id": "2bc019f8",
   "metadata": {},
   "source": [
    "# Assignment 2 Group A\n",
    "\n",
    "## Data Wrangling II\n",
    "Create an “Academic performance” dataset of students and perform the following operations using Python.\n",
    "\n",
    "1. Scan all variables for missing values and inconsistencies. If there are missing values and/or inconsistencies, use any of the suitable techniques to deal with them.\n",
    "2. Scan all numeric variables for outliers. If there are outliers, use any of the suitable techniques to deal with them.\n",
    "3. Apply data transformations on at least one of the variables. The purpose of this transformation should be one of the following reasons: \n",
    "    a. To change the scale for better understanding of the variable, to convert a non-linear relation into a linear one, \n",
    "    b. To decrease the skewness and convert the distribution into a normal distribution. \n",
    "\n",
    "Reason and document your approach properly."
   ]
  },
  {
   "cell_type": "code",
   "execution_count": 1,
   "id": "c4c10935",
   "metadata": {},
   "outputs": [],
   "source": [
    "import pandas as pd\n",
    "import numpy as np\n",
    "import seaborn as sns"
   ]
  },
  {
   "cell_type": "code",
   "execution_count": 2,
   "id": "371b41cf",
   "metadata": {},
   "outputs": [
    {
     "data": {
      "text/html": [
       "<div>\n",
       "<style scoped>\n",
       "    .dataframe tbody tr th:only-of-type {\n",
       "        vertical-align: middle;\n",
       "    }\n",
       "\n",
       "    .dataframe tbody tr th {\n",
       "        vertical-align: top;\n",
       "    }\n",
       "\n",
       "    .dataframe thead th {\n",
       "        text-align: right;\n",
       "    }\n",
       "</style>\n",
       "<table border=\"1\" class=\"dataframe\">\n",
       "  <thead>\n",
       "    <tr style=\"text-align: right;\">\n",
       "      <th></th>\n",
       "      <th>RollNo</th>\n",
       "      <th>Name</th>\n",
       "      <th>Sem1</th>\n",
       "      <th>Sem2</th>\n",
       "      <th>Sem3</th>\n",
       "      <th>Sem4</th>\n",
       "      <th>Sem5</th>\n",
       "      <th>Sem6</th>\n",
       "    </tr>\n",
       "  </thead>\n",
       "  <tbody>\n",
       "    <tr>\n",
       "      <th>0</th>\n",
       "      <td>TCOA01</td>\n",
       "      <td>Arjun Verma</td>\n",
       "      <td>9.71</td>\n",
       "      <td>4.14</td>\n",
       "      <td>4.39</td>\n",
       "      <td>6.89</td>\n",
       "      <td>7.56</td>\n",
       "      <td>7.52</td>\n",
       "    </tr>\n",
       "    <tr>\n",
       "      <th>1</th>\n",
       "      <td>TCOA02</td>\n",
       "      <td>Isha Shah</td>\n",
       "      <td>6.11</td>\n",
       "      <td>4.62</td>\n",
       "      <td>6.56</td>\n",
       "      <td>5.03</td>\n",
       "      <td>7.72</td>\n",
       "      <td>5.42</td>\n",
       "    </tr>\n",
       "    <tr>\n",
       "      <th>2</th>\n",
       "      <td>TCOA03</td>\n",
       "      <td>Riya Nair</td>\n",
       "      <td>4.25</td>\n",
       "      <td>8.48</td>\n",
       "      <td>4.60</td>\n",
       "      <td>5.43</td>\n",
       "      <td>6.88</td>\n",
       "      <td>7.90</td>\n",
       "    </tr>\n",
       "  </tbody>\n",
       "</table>\n",
       "</div>"
      ],
      "text/plain": [
       "   RollNo         Name  Sem1  Sem2  Sem3  Sem4  Sem5  Sem6\n",
       "0  TCOA01  Arjun Verma  9.71  4.14  4.39  6.89  7.56  7.52\n",
       "1  TCOA02    Isha Shah  6.11  4.62  6.56  5.03  7.72  5.42\n",
       "2  TCOA03    Riya Nair  4.25  8.48  4.60  5.43  6.88  7.90"
      ]
     },
     "execution_count": 2,
     "metadata": {},
     "output_type": "execute_result"
    }
   ],
   "source": [
    "df = pd.read_excel('./random_academic_data.xlsx')\n",
    "df.head(3)"
   ]
  },
  {
   "cell_type": "code",
   "execution_count": 3,
   "id": "db102b39",
   "metadata": {},
   "outputs": [
    {
     "name": "stdout",
     "output_type": "stream",
     "text": [
      "<class 'pandas.core.frame.DataFrame'>\n",
      "RangeIndex: 309 entries, 0 to 308\n",
      "Data columns (total 8 columns):\n",
      " #   Column  Non-Null Count  Dtype  \n",
      "---  ------  --------------  -----  \n",
      " 0   RollNo  309 non-null    object \n",
      " 1   Name    309 non-null    object \n",
      " 2   Sem1    309 non-null    float64\n",
      " 3   Sem2    309 non-null    float64\n",
      " 4   Sem3    309 non-null    float64\n",
      " 5   Sem4    309 non-null    float64\n",
      " 6   Sem5    309 non-null    float64\n",
      " 7   Sem6    309 non-null    float64\n",
      "dtypes: float64(6), object(2)\n",
      "memory usage: 19.4+ KB\n"
     ]
    }
   ],
   "source": [
    "df.info()"
   ]
  },
  {
   "cell_type": "code",
   "execution_count": 4,
   "id": "7a77648f",
   "metadata": {},
   "outputs": [
    {
     "data": {
      "text/html": [
       "<div>\n",
       "<style scoped>\n",
       "    .dataframe tbody tr th:only-of-type {\n",
       "        vertical-align: middle;\n",
       "    }\n",
       "\n",
       "    .dataframe tbody tr th {\n",
       "        vertical-align: top;\n",
       "    }\n",
       "\n",
       "    .dataframe thead th {\n",
       "        text-align: right;\n",
       "    }\n",
       "</style>\n",
       "<table border=\"1\" class=\"dataframe\">\n",
       "  <thead>\n",
       "    <tr style=\"text-align: right;\">\n",
       "      <th></th>\n",
       "      <th>Sem1</th>\n",
       "      <th>Sem2</th>\n",
       "      <th>Sem3</th>\n",
       "      <th>Sem4</th>\n",
       "      <th>Sem5</th>\n",
       "      <th>Sem6</th>\n",
       "    </tr>\n",
       "  </thead>\n",
       "  <tbody>\n",
       "    <tr>\n",
       "      <th>count</th>\n",
       "      <td>309.000000</td>\n",
       "      <td>309.000000</td>\n",
       "      <td>309.000000</td>\n",
       "      <td>309.000000</td>\n",
       "      <td>309.000000</td>\n",
       "      <td>309.000000</td>\n",
       "    </tr>\n",
       "    <tr>\n",
       "      <th>mean</th>\n",
       "      <td>7.077476</td>\n",
       "      <td>6.966084</td>\n",
       "      <td>7.108544</td>\n",
       "      <td>6.982233</td>\n",
       "      <td>7.137087</td>\n",
       "      <td>7.014984</td>\n",
       "    </tr>\n",
       "    <tr>\n",
       "      <th>std</th>\n",
       "      <td>3.004871</td>\n",
       "      <td>1.835419</td>\n",
       "      <td>2.758916</td>\n",
       "      <td>2.877877</td>\n",
       "      <td>3.817599</td>\n",
       "      <td>1.809959</td>\n",
       "    </tr>\n",
       "    <tr>\n",
       "      <th>min</th>\n",
       "      <td>0.960000</td>\n",
       "      <td>4.000000</td>\n",
       "      <td>4.020000</td>\n",
       "      <td>4.000000</td>\n",
       "      <td>4.010000</td>\n",
       "      <td>4.020000</td>\n",
       "    </tr>\n",
       "    <tr>\n",
       "      <th>25%</th>\n",
       "      <td>5.660000</td>\n",
       "      <td>5.250000</td>\n",
       "      <td>5.480000</td>\n",
       "      <td>5.390000</td>\n",
       "      <td>5.520000</td>\n",
       "      <td>5.360000</td>\n",
       "    </tr>\n",
       "    <tr>\n",
       "      <th>50%</th>\n",
       "      <td>6.770000</td>\n",
       "      <td>7.000000</td>\n",
       "      <td>6.860000</td>\n",
       "      <td>6.750000</td>\n",
       "      <td>6.910000</td>\n",
       "      <td>7.050000</td>\n",
       "    </tr>\n",
       "    <tr>\n",
       "      <th>75%</th>\n",
       "      <td>8.300000</td>\n",
       "      <td>8.530000</td>\n",
       "      <td>8.450000</td>\n",
       "      <td>8.410000</td>\n",
       "      <td>8.390000</td>\n",
       "      <td>8.670000</td>\n",
       "    </tr>\n",
       "    <tr>\n",
       "      <th>max</th>\n",
       "      <td>50.600000</td>\n",
       "      <td>9.980000</td>\n",
       "      <td>45.300000</td>\n",
       "      <td>47.500000</td>\n",
       "      <td>67.200000</td>\n",
       "      <td>10.000000</td>\n",
       "    </tr>\n",
       "  </tbody>\n",
       "</table>\n",
       "</div>"
      ],
      "text/plain": [
       "             Sem1        Sem2        Sem3        Sem4        Sem5        Sem6\n",
       "count  309.000000  309.000000  309.000000  309.000000  309.000000  309.000000\n",
       "mean     7.077476    6.966084    7.108544    6.982233    7.137087    7.014984\n",
       "std      3.004871    1.835419    2.758916    2.877877    3.817599    1.809959\n",
       "min      0.960000    4.000000    4.020000    4.000000    4.010000    4.020000\n",
       "25%      5.660000    5.250000    5.480000    5.390000    5.520000    5.360000\n",
       "50%      6.770000    7.000000    6.860000    6.750000    6.910000    7.050000\n",
       "75%      8.300000    8.530000    8.450000    8.410000    8.390000    8.670000\n",
       "max     50.600000    9.980000   45.300000   47.500000   67.200000   10.000000"
      ]
     },
     "execution_count": 4,
     "metadata": {},
     "output_type": "execute_result"
    }
   ],
   "source": [
    "df.describe()"
   ]
  },
  {
   "cell_type": "code",
   "execution_count": 5,
   "id": "ac08ca30",
   "metadata": {},
   "outputs": [
    {
     "name": "stdout",
     "output_type": "stream",
     "text": [
      "RollNo\n",
      "Name\n",
      "Sem1\n",
      "Sem2\n",
      "Sem3\n",
      "Sem4\n",
      "Sem5\n",
      "Sem6\n"
     ]
    }
   ],
   "source": [
    "for column in df.columns:\n",
    "    print(column)"
   ]
  },
  {
   "cell_type": "markdown",
   "id": "6acca1ee",
   "metadata": {},
   "source": [
    "### Missing Values"
   ]
  },
  {
   "cell_type": "code",
   "execution_count": 6,
   "id": "51008047",
   "metadata": {},
   "outputs": [
    {
     "data": {
      "text/plain": [
       "RollNo    0\n",
       "Name      0\n",
       "Sem1      0\n",
       "Sem2      0\n",
       "Sem3      0\n",
       "Sem4      0\n",
       "Sem5      0\n",
       "Sem6      0\n",
       "dtype: int64"
      ]
     },
     "execution_count": 6,
     "metadata": {},
     "output_type": "execute_result"
    }
   ],
   "source": [
    "df.isna().sum()"
   ]
  },
  {
   "cell_type": "markdown",
   "id": "ce403829",
   "metadata": {},
   "source": [
    "Data has no missing values"
   ]
  },
  {
   "cell_type": "markdown",
   "id": "28d96cca",
   "metadata": {},
   "source": [
    "RollNo is combination of Year, Dept, Div and number. We can extract Div from it and Number"
   ]
  },
  {
   "cell_type": "code",
   "execution_count": 7,
   "id": "24500d06",
   "metadata": {},
   "outputs": [
    {
     "data": {
      "text/html": [
       "<div>\n",
       "<style scoped>\n",
       "    .dataframe tbody tr th:only-of-type {\n",
       "        vertical-align: middle;\n",
       "    }\n",
       "\n",
       "    .dataframe tbody tr th {\n",
       "        vertical-align: top;\n",
       "    }\n",
       "\n",
       "    .dataframe thead th {\n",
       "        text-align: right;\n",
       "    }\n",
       "</style>\n",
       "<table border=\"1\" class=\"dataframe\">\n",
       "  <thead>\n",
       "    <tr style=\"text-align: right;\">\n",
       "      <th></th>\n",
       "      <th>RollNo</th>\n",
       "      <th>Name</th>\n",
       "      <th>Sem1</th>\n",
       "      <th>Sem2</th>\n",
       "      <th>Sem3</th>\n",
       "      <th>Sem4</th>\n",
       "      <th>Sem5</th>\n",
       "      <th>Sem6</th>\n",
       "      <th>Year</th>\n",
       "      <th>Dept</th>\n",
       "      <th>Div</th>\n",
       "    </tr>\n",
       "  </thead>\n",
       "  <tbody>\n",
       "    <tr>\n",
       "      <th>0</th>\n",
       "      <td>TCOA01</td>\n",
       "      <td>Arjun Verma</td>\n",
       "      <td>9.71</td>\n",
       "      <td>4.14</td>\n",
       "      <td>4.39</td>\n",
       "      <td>6.89</td>\n",
       "      <td>7.56</td>\n",
       "      <td>7.52</td>\n",
       "      <td>TE</td>\n",
       "      <td>COMP</td>\n",
       "      <td>A</td>\n",
       "    </tr>\n",
       "    <tr>\n",
       "      <th>1</th>\n",
       "      <td>TCOA02</td>\n",
       "      <td>Isha Shah</td>\n",
       "      <td>6.11</td>\n",
       "      <td>4.62</td>\n",
       "      <td>6.56</td>\n",
       "      <td>5.03</td>\n",
       "      <td>7.72</td>\n",
       "      <td>5.42</td>\n",
       "      <td>TE</td>\n",
       "      <td>COMP</td>\n",
       "      <td>A</td>\n",
       "    </tr>\n",
       "    <tr>\n",
       "      <th>2</th>\n",
       "      <td>TCOA03</td>\n",
       "      <td>Riya Nair</td>\n",
       "      <td>4.25</td>\n",
       "      <td>8.48</td>\n",
       "      <td>4.60</td>\n",
       "      <td>5.43</td>\n",
       "      <td>6.88</td>\n",
       "      <td>7.90</td>\n",
       "      <td>TE</td>\n",
       "      <td>COMP</td>\n",
       "      <td>A</td>\n",
       "    </tr>\n",
       "    <tr>\n",
       "      <th>3</th>\n",
       "      <td>TCOA04</td>\n",
       "      <td>Sonia Patel</td>\n",
       "      <td>9.09</td>\n",
       "      <td>6.17</td>\n",
       "      <td>9.11</td>\n",
       "      <td>9.25</td>\n",
       "      <td>9.99</td>\n",
       "      <td>7.70</td>\n",
       "      <td>TE</td>\n",
       "      <td>COMP</td>\n",
       "      <td>A</td>\n",
       "    </tr>\n",
       "    <tr>\n",
       "      <th>4</th>\n",
       "      <td>TCOA05</td>\n",
       "      <td>Anjali Mittal</td>\n",
       "      <td>5.40</td>\n",
       "      <td>4.29</td>\n",
       "      <td>9.06</td>\n",
       "      <td>5.14</td>\n",
       "      <td>6.70</td>\n",
       "      <td>5.86</td>\n",
       "      <td>TE</td>\n",
       "      <td>COMP</td>\n",
       "      <td>A</td>\n",
       "    </tr>\n",
       "  </tbody>\n",
       "</table>\n",
       "</div>"
      ],
      "text/plain": [
       "   RollNo           Name  Sem1  Sem2  Sem3  Sem4  Sem5  Sem6 Year  Dept Div\n",
       "0  TCOA01    Arjun Verma  9.71  4.14  4.39  6.89  7.56  7.52   TE  COMP   A\n",
       "1  TCOA02      Isha Shah  6.11  4.62  6.56  5.03  7.72  5.42   TE  COMP   A\n",
       "2  TCOA03      Riya Nair  4.25  8.48  4.60  5.43  6.88  7.90   TE  COMP   A\n",
       "3  TCOA04    Sonia Patel  9.09  6.17  9.11  9.25  9.99  7.70   TE  COMP   A\n",
       "4  TCOA05  Anjali Mittal  5.40  4.29  9.06  5.14  6.70  5.86   TE  COMP   A"
      ]
     },
     "execution_count": 7,
     "metadata": {},
     "output_type": "execute_result"
    }
   ],
   "source": [
    "df['Year'] = df['RollNo'].str[0]+'E'\n",
    "df['Dept'] = df['RollNo'].str[1:3]+'MP'\n",
    "df['Div'] = df['RollNo'].str[3]\n",
    "df.head(5)"
   ]
  },
  {
   "cell_type": "markdown",
   "id": "7faa8723",
   "metadata": {},
   "source": [
    "Finally replace rollNo with int"
   ]
  },
  {
   "cell_type": "code",
   "execution_count": 8,
   "id": "cb839b61",
   "metadata": {},
   "outputs": [
    {
     "data": {
      "text/html": [
       "<div>\n",
       "<style scoped>\n",
       "    .dataframe tbody tr th:only-of-type {\n",
       "        vertical-align: middle;\n",
       "    }\n",
       "\n",
       "    .dataframe tbody tr th {\n",
       "        vertical-align: top;\n",
       "    }\n",
       "\n",
       "    .dataframe thead th {\n",
       "        text-align: right;\n",
       "    }\n",
       "</style>\n",
       "<table border=\"1\" class=\"dataframe\">\n",
       "  <thead>\n",
       "    <tr style=\"text-align: right;\">\n",
       "      <th></th>\n",
       "      <th>RollNo</th>\n",
       "      <th>Name</th>\n",
       "      <th>Sem1</th>\n",
       "      <th>Sem2</th>\n",
       "      <th>Sem3</th>\n",
       "      <th>Sem4</th>\n",
       "      <th>Sem5</th>\n",
       "      <th>Sem6</th>\n",
       "      <th>Year</th>\n",
       "      <th>Dept</th>\n",
       "      <th>Div</th>\n",
       "    </tr>\n",
       "  </thead>\n",
       "  <tbody>\n",
       "    <tr>\n",
       "      <th>0</th>\n",
       "      <td>1</td>\n",
       "      <td>Arjun Verma</td>\n",
       "      <td>9.71</td>\n",
       "      <td>4.14</td>\n",
       "      <td>4.39</td>\n",
       "      <td>6.89</td>\n",
       "      <td>7.56</td>\n",
       "      <td>7.52</td>\n",
       "      <td>TE</td>\n",
       "      <td>COMP</td>\n",
       "      <td>A</td>\n",
       "    </tr>\n",
       "    <tr>\n",
       "      <th>1</th>\n",
       "      <td>2</td>\n",
       "      <td>Isha Shah</td>\n",
       "      <td>6.11</td>\n",
       "      <td>4.62</td>\n",
       "      <td>6.56</td>\n",
       "      <td>5.03</td>\n",
       "      <td>7.72</td>\n",
       "      <td>5.42</td>\n",
       "      <td>TE</td>\n",
       "      <td>COMP</td>\n",
       "      <td>A</td>\n",
       "    </tr>\n",
       "    <tr>\n",
       "      <th>2</th>\n",
       "      <td>3</td>\n",
       "      <td>Riya Nair</td>\n",
       "      <td>4.25</td>\n",
       "      <td>8.48</td>\n",
       "      <td>4.60</td>\n",
       "      <td>5.43</td>\n",
       "      <td>6.88</td>\n",
       "      <td>7.90</td>\n",
       "      <td>TE</td>\n",
       "      <td>COMP</td>\n",
       "      <td>A</td>\n",
       "    </tr>\n",
       "    <tr>\n",
       "      <th>3</th>\n",
       "      <td>4</td>\n",
       "      <td>Sonia Patel</td>\n",
       "      <td>9.09</td>\n",
       "      <td>6.17</td>\n",
       "      <td>9.11</td>\n",
       "      <td>9.25</td>\n",
       "      <td>9.99</td>\n",
       "      <td>7.70</td>\n",
       "      <td>TE</td>\n",
       "      <td>COMP</td>\n",
       "      <td>A</td>\n",
       "    </tr>\n",
       "    <tr>\n",
       "      <th>4</th>\n",
       "      <td>5</td>\n",
       "      <td>Anjali Mittal</td>\n",
       "      <td>5.40</td>\n",
       "      <td>4.29</td>\n",
       "      <td>9.06</td>\n",
       "      <td>5.14</td>\n",
       "      <td>6.70</td>\n",
       "      <td>5.86</td>\n",
       "      <td>TE</td>\n",
       "      <td>COMP</td>\n",
       "      <td>A</td>\n",
       "    </tr>\n",
       "  </tbody>\n",
       "</table>\n",
       "</div>"
      ],
      "text/plain": [
       "   RollNo           Name  Sem1  Sem2  Sem3  Sem4  Sem5  Sem6 Year  Dept Div\n",
       "0       1    Arjun Verma  9.71  4.14  4.39  6.89  7.56  7.52   TE  COMP   A\n",
       "1       2      Isha Shah  6.11  4.62  6.56  5.03  7.72  5.42   TE  COMP   A\n",
       "2       3      Riya Nair  4.25  8.48  4.60  5.43  6.88  7.90   TE  COMP   A\n",
       "3       4    Sonia Patel  9.09  6.17  9.11  9.25  9.99  7.70   TE  COMP   A\n",
       "4       5  Anjali Mittal  5.40  4.29  9.06  5.14  6.70  5.86   TE  COMP   A"
      ]
     },
     "execution_count": 8,
     "metadata": {},
     "output_type": "execute_result"
    }
   ],
   "source": [
    "df['RollNo'] = df['RollNo'].str[4:].astype(int)\n",
    "df.head(5)"
   ]
  },
  {
   "cell_type": "code",
   "execution_count": 9,
   "id": "9747cc50",
   "metadata": {},
   "outputs": [
    {
     "data": {
      "text/plain": [
       "RollNo      int32\n",
       "Name       object\n",
       "Sem1      float64\n",
       "Sem2      float64\n",
       "Sem3      float64\n",
       "Sem4      float64\n",
       "Sem5      float64\n",
       "Sem6      float64\n",
       "Year       object\n",
       "Dept       object\n",
       "Div        object\n",
       "dtype: object"
      ]
     },
     "execution_count": 9,
     "metadata": {},
     "output_type": "execute_result"
    }
   ],
   "source": [
    "df.dtypes"
   ]
  },
  {
   "cell_type": "markdown",
   "id": "4f642070",
   "metadata": {},
   "source": [
    "## Outliners"
   ]
  },
  {
   "cell_type": "code",
   "execution_count": 10,
   "id": "ef9fd48b",
   "metadata": {},
   "outputs": [
    {
     "data": {
      "text/plain": [
       "<Axes: ylabel='Sem1'>"
      ]
     },
     "execution_count": 10,
     "metadata": {},
     "output_type": "execute_result"
    },
    {
     "data": {
      "image/png": "[encoded data removed]",
      "text/plain": [
       "<Figure size 640x480 with 1 Axes>"
      ]
     },
     "metadata": {},
     "output_type": "display_data"
    }
   ],
   "source": [
    "sns.boxplot(y=df['Sem1'])"
   ]
  },
  {
   "cell_type": "code",
   "execution_count": 11,
   "id": "d4e39066",
   "metadata": {},
   "outputs": [
    {
     "data": {
      "text/plain": [
       "<Axes: ylabel='Sem1_winsorized'>"
      ]
     },
     "execution_count": 11,
     "metadata": {},
     "output_type": "execute_result"
    },
    {
     "data": {
      "image/png": "[encoded data removed]",
      "text/plain": [
       "<Figure size 640x480 with 1 Axes>"
      ]
     },
     "metadata": {},
     "output_type": "display_data"
    }
   ],
   "source": [
    "def winsorize(data, lower_percentile, upper_percentile):\n",
    "  lower = np.percentile(data, lower_percentile)\n",
    "  upper = np.percentile(data, upper_percentile)\n",
    "  return np.where(data < lower, lower, np.where(data > upper, upper, data))\n",
    "\n",
    "df['Sem1_winsorized'] = winsorize(df['Sem1'], 2, 98)\n",
    "sns.boxplot(y=df['Sem1_winsorized'])"
   ]
  },
  {
   "cell_type": "code",
   "execution_count": 12,
   "id": "18f76ed1",
   "metadata": {},
   "outputs": [
    {
     "data": {
      "text/html": [
       "<div>\n",
       "<style scoped>\n",
       "    .dataframe tbody tr th:only-of-type {\n",
       "        vertical-align: middle;\n",
       "    }\n",
       "\n",
       "    .dataframe tbody tr th {\n",
       "        vertical-align: top;\n",
       "    }\n",
       "\n",
       "    .dataframe thead th {\n",
       "        text-align: right;\n",
       "    }\n",
       "</style>\n",
       "<table border=\"1\" class=\"dataframe\">\n",
       "  <thead>\n",
       "    <tr style=\"text-align: right;\">\n",
       "      <th></th>\n",
       "      <th>RollNo</th>\n",
       "      <th>Name</th>\n",
       "      <th>Sem1</th>\n",
       "      <th>Sem2</th>\n",
       "      <th>Sem3</th>\n",
       "      <th>Sem4</th>\n",
       "      <th>Sem5</th>\n",
       "      <th>Sem6</th>\n",
       "      <th>Year</th>\n",
       "      <th>Dept</th>\n",
       "      <th>Div</th>\n",
       "      <th>Sem1_winsorized</th>\n",
       "      <th>diff1</th>\n",
       "    </tr>\n",
       "  </thead>\n",
       "  <tbody>\n",
       "    <tr>\n",
       "      <th>31</th>\n",
       "      <td>32</td>\n",
       "      <td>Yash Kumar</td>\n",
       "      <td>50.6</td>\n",
       "      <td>5.82</td>\n",
       "      <td>8.99</td>\n",
       "      <td>9.03</td>\n",
       "      <td>9.16</td>\n",
       "      <td>4.59</td>\n",
       "      <td>TE</td>\n",
       "      <td>COMP</td>\n",
       "      <td>A</td>\n",
       "      <td>9.8884</td>\n",
       "      <td>40.7116</td>\n",
       "    </tr>\n",
       "  </tbody>\n",
       "</table>\n",
       "</div>"
      ],
      "text/plain": [
       "    RollNo        Name  Sem1  Sem2  Sem3  Sem4  Sem5  Sem6 Year  Dept Div  \\\n",
       "31      32  Yash Kumar  50.6  5.82  8.99  9.03  9.16  4.59   TE  COMP   A   \n",
       "\n",
       "    Sem1_winsorized    diff1  \n",
       "31           9.8884  40.7116  "
      ]
     },
     "execution_count": 12,
     "metadata": {},
     "output_type": "execute_result"
    }
   ],
   "source": [
    "new_df = df.copy()\n",
    "new_df['diff1'] = new_df['Sem1'] - new_df['Sem1_winsorized']\n",
    "new_df[new_df['diff1']>10]"
   ]
  },
  {
   "cell_type": "code",
   "execution_count": 13,
   "id": "60a9ac8c",
   "metadata": {},
   "outputs": [
    {
     "data": {
      "text/plain": [
       "<Axes: ylabel='Sem2'>"
      ]
     },
     "execution_count": 13,
     "metadata": {},
     "output_type": "execute_result"
    },
    {
     "data": {
      "image/png": "[encoded data removed]",
      "text/plain": [
       "<Figure size 640x480 with 1 Axes>"
      ]
     },
     "metadata": {},
     "output_type": "display_data"
    }
   ],
   "source": [
    "sns.boxplot(y=df['Sem2'])"
   ]
  },
  {
   "cell_type": "code",
   "execution_count": 14,
   "id": "703414a7",
   "metadata": {},
   "outputs": [
    {
     "data": {
      "text/plain": [
       "<Axes: ylabel='Sem3'>"
      ]
     },
     "execution_count": 14,
     "metadata": {},
     "output_type": "execute_result"
    },
    {
     "data": {
      "image/png": "[encoded data removed]",
      "text/plain": [
       "<Figure size 640x480 with 1 Axes>"
      ]
     },
     "metadata": {},
     "output_type": "display_data"
    }
   ],
   "source": [
    "sns.boxplot(y=df['Sem3'])"
   ]
  },
  {
   "cell_type": "code",
   "execution_count": 15,
   "id": "ce9b9582",
   "metadata": {},
   "outputs": [],
   "source": [
    "df['Sem3'] = winsorize(df['Sem3'], 2, 98)"
   ]
  },
  {
   "cell_type": "code",
   "execution_count": 16,
   "id": "083f6edb",
   "metadata": {},
   "outputs": [
    {
     "data": {
      "text/plain": [
       "<Axes: ylabel='Sem4'>"
      ]
     },
     "execution_count": 16,
     "metadata": {},
     "output_type": "execute_result"
    },
    {
     "data": {
      "image/png": "[encoded data removed]",
      "text/plain": [
       "<Figure size 640x480 with 1 Axes>"
      ]
     },
     "metadata": {},
     "output_type": "display_data"
    }
   ],
   "source": [
    "sns.boxplot(y=df['Sem4'])"
   ]
  },
  {
   "cell_type": "code",
   "execution_count": 17,
   "id": "da3533f6",
   "metadata": {},
   "outputs": [],
   "source": [
    "df['Sem4'] = winsorize(df['Sem4'], 2, 98)"
   ]
  },
  {
   "cell_type": "code",
   "execution_count": 18,
   "id": "961d8d1c",
   "metadata": {},
   "outputs": [
    {
     "data": {
      "text/plain": [
       "<Axes: ylabel='Sem5'>"
      ]
     },
     "execution_count": 18,
     "metadata": {},
     "output_type": "execute_result"
    },
    {
     "data": {
      "image/png": "[encoded data removed]",
      "text/plain": [
       "<Figure size 640x480 with 1 Axes>"
      ]
     },
     "metadata": {},
     "output_type": "display_data"
    }
   ],
   "source": [
    "sns.boxplot(y=df['Sem5'])"
   ]
  },
  {
   "cell_type": "code",
   "execution_count": 19,
   "id": "f0212eb8",
   "metadata": {},
   "outputs": [],
   "source": [
    "df['Sem5'] = winsorize(df['Sem5'], 2, 98)"
   ]
  },
  {
   "cell_type": "code",
   "execution_count": 20,
   "id": "0db116d2",
   "metadata": {},
   "outputs": [
    {
     "data": {
      "text/plain": [
       "<Axes: ylabel='Sem6'>"
      ]
     },
     "execution_count": 20,
     "metadata": {},
     "output_type": "execute_result"
    },
    {
     "data": {
      "image/png": "[encoded data removed]",
      "text/plain": [
       "<Figure size 640x480 with 1 Axes>"
      ]
     },
     "metadata": {},
     "output_type": "display_data"
    }
   ],
   "source": [
    "sns.boxplot(y=df['Sem6'])"
   ]
  },
  {
   "cell_type": "code",
   "execution_count": 21,
   "id": "f6fbbe55",
   "metadata": {},
   "outputs": [
    {
     "data": {
      "text/plain": [
       "<Axes: ylabel='RollNo'>"
      ]
     },
     "execution_count": 21,
     "metadata": {},
     "output_type": "execute_result"
    },
    {
     "data": {
      "image/png": "[encoded data removed]",
      "text/plain": [
       "<Figure size 640x480 with 1 Axes>"
      ]
     },
     "metadata": {},
     "output_type": "display_data"
    }
   ],
   "source": [
    "sns.boxplot(y=df['RollNo'])"
   ]
  },
  {
   "cell_type": "markdown",
   "id": "b0ee9857",
   "metadata": {},
   "source": [
    "## Transformation and Scaling"
   ]
  },
  {
   "cell_type": "code",
   "execution_count": 22,
   "id": "98c4b97e",
   "metadata": {},
   "outputs": [],
   "source": [
    "from sklearn.preprocessing import LabelEncoder\n",
    "from sklearn.preprocessing import StandardScaler"
   ]
  },
  {
   "cell_type": "code",
   "execution_count": 23,
   "id": "9d9fe8db",
   "metadata": {},
   "outputs": [
    {
     "data": {
      "text/plain": [
       "Div\n",
       "2    79\n",
       "3    79\n",
       "1    77\n",
       "0    74\n",
       "Name: count, dtype: int64"
      ]
     },
     "execution_count": 23,
     "metadata": {},
     "output_type": "execute_result"
    }
   ],
   "source": [
    "le = LabelEncoder()\n",
    "df['Div'] = le.fit_transform(df['Div'])\n",
    "df['Div'].value_counts()"
   ]
  },
  {
   "cell_type": "markdown",
   "id": "822f11c6",
   "metadata": {},
   "source": [
    "#### Thus we performed all the operation as specified in problem statement."
   ]
  }
 ],
 "metadata": {
  "kernelspec": {
   "display_name": "Python 3 (ipykernel)",
   "language": "python",
   "name": "python3"
  },
  "language_info": {
   "codemirror_mode": {
    "name": "ipython",
    "version": 3
   },
   "file_extension": ".py",
   "mimetype": "text/x-python",
   "name": "python",
   "nbconvert_exporter": "python",
   "pygments_lexer": "ipython3",
   "version": "3.11.5"
  }
 },
 "nbformat": 4,
 "nbformat_minor": 5
}
